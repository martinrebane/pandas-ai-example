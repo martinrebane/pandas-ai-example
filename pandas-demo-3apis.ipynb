{
 "cells": [
  {
   "cell_type": "code",
   "execution_count": null,
   "id": "1690f793",
   "metadata": {},
   "outputs": [],
   "source": [
    "import sys\n",
    "print(sys.version)"
   ]
  },
  {
   "cell_type": "code",
   "execution_count": null,
   "id": "57a9c857",
   "metadata": {},
   "outputs": [],
   "source": [
    "import pandasai\n",
    "from pandasai import SmartDataframe\n",
    "import pandas as pd\n",
    "from pandasai import Agent"
   ]
  },
  {
   "cell_type": "markdown",
   "id": "7e1809e4",
   "metadata": {},
   "source": [
    "# let's load some data"
   ]
  },
  {
   "cell_type": "code",
   "execution_count": null,
   "id": "02011c2a",
   "metadata": {},
   "outputs": [],
   "source": [
    "df = pd.DataFrame({\n",
    "    \"country\": [\n",
    "        \"United States\",\n",
    "        \"United Kingdom\",\n",
    "        \"France\",\n",
    "        \"Germany\",\n",
    "        \"Italy\",\n",
    "        \"Spain\",\n",
    "        \"Canada\",\n",
    "        \"Australia\",\n",
    "        \"Japan\",\n",
    "        \"China\",\n",
    "    ],\n",
    "    \"gdp\": [\n",
    "        19294482071552,\n",
    "        2891615567872,\n",
    "        2411255037952,\n",
    "        3435817336832,\n",
    "        1745433788416,\n",
    "        1181205135360,\n",
    "        1607402389504,\n",
    "        1490967855104,\n",
    "        4380756541440,\n",
    "        14631844184064,\n",
    "    ],\n",
    "    \"happiness_index\": [6.94, 7.16, 6.66, 7.07, 6.38, 6.4, 7.23, 7.22, 5.87, 5.12],\n",
    "})"
   ]
  },
  {
   "cell_type": "markdown",
   "id": "b5f685d5",
   "metadata": {},
   "source": [
    "# set up language model"
   ]
  },
  {
   "cell_type": "code",
   "execution_count": null,
   "id": "7a11d962-2a61-484a-b8ab-fac9f766ea91",
   "metadata": {},
   "outputs": [],
   "source": [
    "from pandasai.llm import AzureOpenAI\n",
    "\n",
    "llm = AzureOpenAI(\n",
    "    api_token=\"UT-AZURE-OPENAI-MODEL-API-TOKEN\",\n",
    "    azure_endpoint=\"https://tu-openai-ati-ai.openai.azure.com/ati-ai\",\n",
    "    api_version=\"2023-07-01-preview\",\n",
    "    deployment_name=\"gpt4\",\n",
    "    is_chat_model=True\n",
    ")"
   ]
  },
  {
   "cell_type": "code",
   "execution_count": null,
   "id": "fa01c3ba-b32b-43a8-91f9-629b57887bf5",
   "metadata": {},
   "outputs": [],
   "source": [
    "from pandasai.llm import OpenAI\n",
    "from pandasai.helpers.openai_info import get_openai_callback\n",
    "llm = OpenAI(api_token=\"REAL_OPENAI_TOKEN_DIRECTLY_FROM_OPENAI\")"
   ]
  },
  {
   "cell_type": "code",
   "execution_count": null,
   "id": "480f359e-eb08-49a9-919e-de7d906d32b5",
   "metadata": {},
   "outputs": [],
   "source": [
    "from pandasai import SmartDataframe\n",
    "from pandasai.llm import GooglePalm\n",
    "\n",
    "llm = GooglePalm(api_key=\"GOOGLE_CLOUD_API_KEY\")\n"
   ]
  },
  {
   "cell_type": "code",
   "execution_count": null,
   "id": "b7606450-db1b-4785-ba86-4f9c978bab42",
   "metadata": {},
   "outputs": [],
   "source": [
    "df.describe()"
   ]
  },
  {
   "cell_type": "code",
   "execution_count": null,
   "id": "95b6996f",
   "metadata": {},
   "outputs": [],
   "source": [
    "sdf = SmartDataframe(df, config={\"llm\": llm})"
   ]
  },
  {
   "cell_type": "code",
   "execution_count": null,
   "id": "80fcc2fa",
   "metadata": {},
   "outputs": [],
   "source": [
    "sdf[sdf['country'] == 'United States']"
   ]
  },
  {
   "cell_type": "code",
   "execution_count": null,
   "id": "3cf93258-feed-48e2-97ef-462ca2e64fb6",
   "metadata": {},
   "outputs": [],
   "source": [
    "sdf.chat('Which are the 5 happiest countries?')"
   ]
  },
  {
   "cell_type": "code",
   "execution_count": null,
   "id": "8b813fa5-a4d8-44d4-83e6-349024cc6f98",
   "metadata": {},
   "outputs": [],
   "source": [
    "sdf.chat('Which are the 5 unhappiest countries?')"
   ]
  },
  {
   "cell_type": "code",
   "execution_count": null,
   "id": "4633ec64",
   "metadata": {},
   "outputs": [],
   "source": [
    "sdf.chat(\"Return the top 3 countries by GDP\")"
   ]
  },
  {
   "cell_type": "code",
   "execution_count": null,
   "id": "30223dde",
   "metadata": {},
   "outputs": [],
   "source": [
    "sdf.chat(\"Return the top 3 countries by happiness_index\")"
   ]
  },
  {
   "cell_type": "code",
   "execution_count": null,
   "id": "cb8f1670-789a-4f53-bc43-9d71a4ee8797",
   "metadata": {},
   "outputs": [],
   "source": [
    "agent = Agent([sdf])"
   ]
  },
  {
   "cell_type": "code",
   "execution_count": null,
   "id": "f0c04ff2-5dbe-4b03-9c7e-d69339a1de11",
   "metadata": {},
   "outputs": [],
   "source": [
    "agent.chat('Which are the 5 happiest countries?')"
   ]
  },
  {
   "cell_type": "code",
   "execution_count": null,
   "id": "d4e03f08-1020-4f7b-a6c0-d3b9f3bb2b50",
   "metadata": {},
   "outputs": [],
   "source": [
    "agent.chat('Which are the 5 unhappiest countries?')"
   ]
  }
 ],
 "metadata": {
  "kernelspec": {
   "display_name": "Python (3.9)",
   "language": "python",
   "name": "pandasai"
  },
  "language_info": {
   "codemirror_mode": {
    "name": "ipython",
    "version": 3
   },
   "file_extension": ".py",
   "mimetype": "text/x-python",
   "name": "python",
   "nbconvert_exporter": "python",
   "pygments_lexer": "ipython3",
   "version": "3.9.5"
  }
 },
 "nbformat": 4,
 "nbformat_minor": 5
}
